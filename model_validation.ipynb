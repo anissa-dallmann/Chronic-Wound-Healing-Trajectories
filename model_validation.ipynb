{
  "cells": [
    {
      "cell_type": "markdown",
      "source": [
        "# Model Validation Notebook\n",
        "\n",
        "The following notebook contains the code we used to perform our model validation. The includes evaluating our model performance on a held-out set of patients not seen by the model during training."
      ],
      "metadata": {
        "id": "jdEJ1PQJeIvD"
      }
    },
    {
      "cell_type": "code",
      "execution_count": null,
      "metadata": {
        "id": "aJ5lsSRuIvFe"
      },
      "outputs": [],
      "source": [
        "import pandas as pd\n",
        "import numpy as np\n",
        "import matplotlib.pyplot as plt\n",
        "import seaborn as sns\n",
        "from sklearn.linear_model import LogisticRegression\n",
        "import sklearn\n",
        "from sklearn.pipeline import make_pipeline\n",
        "from sklearn.metrics import confusion_matrix, accuracy_score, recall_score, precision_score, roc_auc_score\n",
        "from sklearn.ensemble import RandomForestClassifier\n",
        "from sklearn.model_selection import cross_val_score\n",
        "from sklearn.model_selection import RandomizedSearchCV\n",
        "from sklearn import metrics"
      ]
    },
    {
      "cell_type": "markdown",
      "metadata": {
        "id": "fSPEEX5JntCb"
      },
      "source": [
        "#Model Validation - Day 28\n",
        "\n",
        "The following cell will load in the pre-processed training and validation datasets as pandas dataframes. The column containing the final label (`'healed12'`) is removed from the input data and saved as a seperated dataframe."
      ]
    },
    {
      "cell_type": "code",
      "execution_count": null,
      "metadata": {
        "id": "5OWtx_tgntCc"
      },
      "outputs": [],
      "source": [
        "x_Tr_28 = pd.read_csv('/content/drive/MyDrive/wound care data/train_28_final.csv')\n",
        "y_Tr_28 = x_Tr_28['healed12']\n",
        "x_Tr_28 = x_Tr_28.drop(['healed12'], axis=1)\n",
        "\n",
        "x_Val_28 = pd.read_csv('/content/drive/MyDrive/wound care data/val_28_final.csv')\n",
        "y_Val_28 = x_Val_28['healed12']\n",
        "x_Val_28 = x_Val_28.drop(['healed12'], axis=1)\n",
        "\n",
        "x_Tr_28.head()"
      ]
    },
    {
      "cell_type": "markdown",
      "source": [
        "The next cell trains a logistic regression model to predict wound healing within 12 weeks, using data up to day 28 after a patient's initial visit to the clinic."
      ],
      "metadata": {
        "id": "KKz3kFA9ZHES"
      }
    },
    {
      "cell_type": "code",
      "execution_count": null,
      "metadata": {
        "id": "31OCJS8HntCc"
      },
      "outputs": [],
      "source": [
        "# train logistic regression model\n",
        "# increased maximum iteration to 1000 since did not converge at default number\n",
        "\n",
        "log_reg_model_28 = LogisticRegression(max_iter=1000).fit(x_Tr_28, y_Tr_28)"
      ]
    },
    {
      "cell_type": "markdown",
      "source": [
        "We then examine model performance by calculating accuracy, precision, sensitivity, and specificty. ROC curves are also included later in this section."
      ],
      "metadata": {
        "id": "rMplxRgbZLXs"
      }
    },
    {
      "cell_type": "code",
      "execution_count": null,
      "metadata": {
        "id": "q1jkr7fOntCc"
      },
      "outputs": [],
      "source": [
        "preds = log_reg_model_28.predict(x_Val_28)"
      ]
    },
    {
      "cell_type": "code",
      "execution_count": null,
      "metadata": {
        "colab": {
          "base_uri": "https://localhost:8080/"
        },
        "id": "O54T3toEntCd",
        "outputId": "dc2b26d5-610c-4700-a6f9-0c299e0d8a0b"
      },
      "outputs": [
        {
          "name": "stdout",
          "output_type": "stream",
          "text": [
            "The accuracy is 0.7636704896913434\n",
            "The precision is 0.7646322442948613\n",
            "The recall/sensitivity is 0.8846616541353384\n",
            "The specificity is 0.574712927827151\n"
          ]
        }
      ],
      "source": [
        "print(\"The accuracy is {}\".format(accuracy_score(y_Val_28, preds)))\n",
        "print(\"The precision is {}\".format(precision_score(y_Val_28, preds)))\n",
        "print(\"The recall/sensitivity is {}\".format(recall_score(y_Val_28, preds)))\n",
        "\n",
        "tn, fp, fn, tp = confusion_matrix(y_Val_28, preds).ravel()\n",
        "specificity = tn / (tn+fp)\n",
        "print(\"The specificity is {}\".format(specificity))"
      ]
    },
    {
      "cell_type": "markdown",
      "source": [
        "Next, we train a Random Forest model on the same data. The hyperparameters were obtained via Grid Search, performed in the seperate `model_training` notebook."
      ],
      "metadata": {
        "id": "J46ZH7-RZN1c"
      }
    },
    {
      "cell_type": "code",
      "execution_count": null,
      "metadata": {
        "id": "qf2CbcK1ntCd"
      },
      "outputs": [],
      "source": [
        "rf_model_28 = RandomForestClassifier(n_estimators = 100,\n",
        " min_samples_split = 5,\n",
        " min_samples_leaf = 8,\n",
        " max_features = 'sqrt',\n",
        " max_depth = 36,\n",
        " bootstrap = False)"
      ]
    },
    {
      "cell_type": "code",
      "execution_count": null,
      "metadata": {
        "id": "HXpz3ZTFntCd"
      },
      "outputs": [],
      "source": [
        "rf_model_28.fit(x_Tr_28, y_Tr_28)"
      ]
    },
    {
      "cell_type": "markdown",
      "source": [
        "We repeat the same calculations as above for the Logistic Regression model for the Random Forest model as well."
      ],
      "metadata": {
        "id": "U5Z_qWNkav2f"
      }
    },
    {
      "cell_type": "code",
      "execution_count": null,
      "metadata": {
        "id": "yBQGV0uJntCd"
      },
      "outputs": [],
      "source": [
        "preds = rf_model_28.predict(x_Val_28)"
      ]
    },
    {
      "cell_type": "code",
      "execution_count": null,
      "metadata": {
        "colab": {
          "base_uri": "https://localhost:8080/"
        },
        "id": "xNNJPRkXntCd",
        "outputId": "3a60bfef-8dd2-49ec-d1b1-f24ec55372ef"
      },
      "outputs": [
        {
          "name": "stdout",
          "output_type": "stream",
          "text": [
            "The accuracy is 0.8111052674750184\n",
            "The precision is 0.8598558942233887\n",
            "The recall/sensitivity is 0.8245429362880886\n",
            "The specificity is 0.7901190314327033\n"
          ]
        }
      ],
      "source": [
        "print(\"The accuracy is {}\".format(accuracy_score(y_Val_28, preds)))\n",
        "print(\"The precision is {}\".format(precision_score(y_Val_28, preds)))\n",
        "print(\"The recall/sensitivity is {}\".format(recall_score(y_Val_28, preds)))\n",
        "\n",
        "tn, fp, fn, tp = confusion_matrix(y_Val_28, preds).ravel()\n",
        "specificity = tn / (tn+fp)\n",
        "print(\"The specificity is {}\".format(specificity))"
      ]
    },
    {
      "cell_type": "code",
      "execution_count": null,
      "metadata": {
        "colab": {
          "base_uri": "https://localhost:8080/",
          "height": 696
        },
        "id": "LVf-1InqntCd",
        "outputId": "c27fee15-0daa-40e4-e79e-13b28e28fa35"
      },
      "outputs": [
        {
          "data": {
            "image/png": "[encoded data removed]",
            "text/plain": [
              "<Figure size 1000x800 with 1 Axes>"
            ]
          },
          "metadata": {},
          "output_type": "display_data"
        }
      ],
      "source": [
        "#set up plotting area\n",
        "plt.figure(0).clf()\n",
        "\n",
        "plt.gcf().set_size_inches(10,8)\n",
        "\n",
        "# add random forest model results\n",
        "y_pred = rf_model_28.predict_proba(x_Val_28)[:, 1]\n",
        "fpr, tpr, _ = metrics.roc_curve(y_Val_28, y_pred)\n",
        "auc = round(metrics.roc_auc_score(y_Val_28, y_pred), 4)\n",
        "plt.plot(fpr,tpr,label=\"Random Forest, AUC = \"+str(auc))\n",
        "\n",
        "# add logistic regression model results\n",
        "y_pred = log_reg_model_28.predict_proba(x_Val_28)[:, 1]\n",
        "fpr, tpr, _ = metrics.roc_curve(y_Val_28, y_pred)\n",
        "auc = round(metrics.roc_auc_score(y_Val_28, y_pred), 4)\n",
        "plt.plot(fpr,tpr,label=\"Logistic Regression, AUC = \"+str(auc))\n",
        "\n",
        "plt.xlabel('False Positive Rate')\n",
        "plt.ylabel('True Positive Rate')\n",
        "\n",
        "#add legend\n",
        "plt.legend()"
      ]
    },
    {
      "cell_type": "markdown",
      "metadata": {
        "id": "zcjBDyqjNzli"
      },
      "source": [
        "#Model Validation - Day 21\n",
        "\n",
        "This section includes the validation details for training models to predicit a wound healing within 12 weeks, using data from the first 21 days after a patient's initial visit. For a more detailed description of each of the cells, please refer to the previous section ('Model Validation - Day 28') as the procedure is the same for each timepoint."
      ]
    },
    {
      "cell_type": "code",
      "execution_count": null,
      "metadata": {
        "id": "Z9t7byUFNzlj"
      },
      "outputs": [],
      "source": [
        "# load data\n",
        "x_Tr_21 = pd.read_csv('/content/drive/MyDrive/wound care data/train_21_final.csv')\n",
        "y_Tr_21 = x_Tr_21['healed12']\n",
        "x_Tr_21 = x_Tr_21.drop(['healed12'], axis=1)\n",
        "\n",
        "x_Val_21 = pd.read_csv('/content/drive/MyDrive/wound care data/val_21_final.csv')\n",
        "y_Val_21 = x_Val_21['healed12']\n",
        "x_Val_21 = x_Val_21.drop(['healed12'], axis=1)"
      ]
    },
    {
      "cell_type": "code",
      "execution_count": null,
      "metadata": {
        "id": "EpA--BFcNzll"
      },
      "outputs": [],
      "source": [
        "# train logistic regression model\n",
        "# increased maximum iteration to 1000 since did not converge at default number\n",
        "\n",
        "log_reg_model_21 = LogisticRegression(max_iter=1000).fit(x_Tr_21, y_Tr_21)"
      ]
    },
    {
      "cell_type": "code",
      "execution_count": null,
      "metadata": {
        "id": "rnBVkkUTNzll"
      },
      "outputs": [],
      "source": [
        "preds = log_reg_model_21.predict(x_Val_21)"
      ]
    },
    {
      "cell_type": "code",
      "execution_count": null,
      "metadata": {
        "colab": {
          "base_uri": "https://localhost:8080/"
        },
        "id": "edOwvA_YNzll",
        "outputId": "5b4793fa-b475-42df-ad11-23d035ff03ce"
      },
      "outputs": [
        {
          "name": "stdout",
          "output_type": "stream",
          "text": [
            "The accuracy is 0.7494420554134233\n",
            "The precision is 0.7506948132107611\n",
            "The recall/sensitivity is 0.882572809236557\n",
            "The specificity is 0.5409232332211569\n"
          ]
        }
      ],
      "source": [
        "print(\"The accuracy is {}\".format(accuracy_score(y_Val_21, preds)))\n",
        "print(\"The precision is {}\".format(precision_score(y_Val_21, preds)))\n",
        "print(\"The recall/sensitivity is {}\".format(recall_score(y_Val_21, preds)))\n",
        "\n",
        "tn, fp, fn, tp = confusion_matrix(y_Val_21, preds).ravel()\n",
        "specificity = tn / (tn+fp)\n",
        "print(\"The specificity is {}\".format(specificity))"
      ]
    },
    {
      "cell_type": "code",
      "execution_count": null,
      "metadata": {
        "id": "4n6IbzanNzll"
      },
      "outputs": [],
      "source": [
        "rf_model_21 = RandomForestClassifier(n_estimators = 200,\n",
        " min_samples_split = 2,\n",
        " min_samples_leaf = 8,\n",
        " max_features = 'sqrt',\n",
        " max_depth = 53,\n",
        " bootstrap = True)"
      ]
    },
    {
      "cell_type": "code",
      "execution_count": null,
      "metadata": {
        "id": "cOe1fOguNzlm"
      },
      "outputs": [],
      "source": [
        "rf_model_21.fit(x_Tr_21, y_Tr_21)"
      ]
    },
    {
      "cell_type": "code",
      "execution_count": null,
      "metadata": {
        "id": "A3XSxsfPNzlm"
      },
      "outputs": [],
      "source": [
        "preds = rf_model_21.predict(x_Val_21)"
      ]
    },
    {
      "cell_type": "code",
      "execution_count": null,
      "metadata": {
        "colab": {
          "base_uri": "https://localhost:8080/"
        },
        "id": "0DxvOtF1Nzlm",
        "outputId": "aca94b66-1c82-40ac-b92e-e72b1a52189d"
      },
      "outputs": [
        {
          "name": "stdout",
          "output_type": "stream",
          "text": [
            "The accuracy is 0.7870705311236583\n",
            "The precision is 0.825728261663138\n",
            "The recall/sensitivity is 0.8253064798598949\n",
            "The specificity is 0.7271826782652867\n"
          ]
        }
      ],
      "source": [
        "print(\"The accuracy is {}\".format(accuracy_score(y_Val_21, preds)))\n",
        "print(\"The precision is {}\".format(precision_score(y_Val_21, preds)))\n",
        "print(\"The recall/sensitivity is {}\".format(recall_score(y_Val_21, preds)))\n",
        "\n",
        "tn, fp, fn, tp = confusion_matrix(y_Val_21, preds).ravel()\n",
        "specificity = tn / (tn+fp)\n",
        "print(\"The specificity is {}\".format(specificity))"
      ]
    },
    {
      "cell_type": "code",
      "execution_count": null,
      "metadata": {
        "colab": {
          "base_uri": "https://localhost:8080/",
          "height": 696
        },
        "id": "thqr3IZANzln",
        "outputId": "4fe70022-d95a-451b-c8b8-1252e405e6eb"
      },
      "outputs": [
        {
          "data": {
            "image/png": "[encoded data removed]",
            "text/plain": [
              "<Figure size 1000x800 with 1 Axes>"
            ]
          },
          "metadata": {},
          "output_type": "display_data"
        }
      ],
      "source": [
        "#set up plotting area\n",
        "plt.figure(0).clf()\n",
        "\n",
        "plt.gcf().set_size_inches(10,8)\n",
        "\n",
        "# add random forest model results\n",
        "y_pred = rf_model_21.predict_proba(x_Val_21)[:, 1]\n",
        "fpr, tpr, _ = metrics.roc_curve(y_Val_21, y_pred)\n",
        "auc = round(metrics.roc_auc_score(y_Val_21, y_pred), 4)\n",
        "plt.plot(fpr,tpr,label=\"Random Forest, AUC = \"+str(auc))\n",
        "\n",
        "# add logistic regression model results\n",
        "y_pred = log_reg_model_21.predict_proba(x_Val_21)[:, 1]\n",
        "fpr, tpr, _ = metrics.roc_curve(y_Val_21, y_pred)\n",
        "auc = round(metrics.roc_auc_score(y_Val_21, y_pred), 4)\n",
        "plt.plot(fpr,tpr,label=\"Logistic Regression, AUC = \"+str(auc))\n",
        "\n",
        "plt.xlabel('False Positive Rate')\n",
        "plt.ylabel('True Positive Rate')\n",
        "\n",
        "#add legend\n",
        "plt.legend()\n"
      ]
    },
    {
      "cell_type": "markdown",
      "metadata": {
        "id": "PUlDN-a2OV9s"
      },
      "source": [
        "#Model Validation - Day 14\n",
        "\n",
        "This section includes the validation details for training models to predicit a wound healing within 12 weeks, using data from the first 14 days after a patient's initial visit. For a more detailed description of each of the cells, please refer to the first section ('Model Validation - Day 28') as the procedure is the same for each timepoint."
      ]
    },
    {
      "cell_type": "code",
      "execution_count": null,
      "metadata": {
        "id": "rPYUMnj5OV9t"
      },
      "outputs": [],
      "source": [
        "# load data\n",
        "x_Tr_14 = pd.read_csv('/content/drive/MyDrive/wound care data/train_14_final.csv')\n",
        "y_Tr_14 = x_Tr_14['healed12']\n",
        "x_Tr_14 = x_Tr_14.drop(['healed12'], axis=1)\n",
        "\n",
        "x_Val_14 = pd.read_csv('/content/drive/MyDrive/wound care data/val_14_final.csv')\n",
        "y_Val_14 = x_Val_14['healed12']\n",
        "x_Val_14 = x_Val_14.drop(['healed12'], axis=1)"
      ]
    },
    {
      "cell_type": "code",
      "execution_count": null,
      "metadata": {
        "id": "O6-eI5yWOV9u"
      },
      "outputs": [],
      "source": [
        "# train logistic regression model\n",
        "# increased maximum iteration to 1000 since did not converge at default number\n",
        "\n",
        "log_reg_model_14 = LogisticRegression(max_iter=1000).fit(x_Tr_14, y_Tr_14)"
      ]
    },
    {
      "cell_type": "code",
      "execution_count": null,
      "metadata": {
        "id": "pD5hkDVlOV9v"
      },
      "outputs": [],
      "source": [
        "preds = log_reg_model_14.predict(x_Val_14)"
      ]
    },
    {
      "cell_type": "code",
      "execution_count": null,
      "metadata": {
        "id": "In-z7YyAOV9v"
      },
      "outputs": [],
      "source": [
        "print(\"The accuracy is {}\".format(accuracy_score(y_Val_14, preds)))\n",
        "print(\"The precision is {}\".format(precision_score(y_Val_14, preds)))\n",
        "print(\"The recall/sensitivity is {}\".format(recall_score(y_Val_14, preds)))\n",
        "\n",
        "tn, fp, fn, tp = confusion_matrix(y_Val_14, preds).ravel()\n",
        "specificity = tn / (tn+fp)\n",
        "print(\"The specificity is {}\".format(specificity))"
      ]
    },
    {
      "cell_type": "code",
      "execution_count": null,
      "metadata": {
        "id": "S2tJ5GvgOV9v"
      },
      "outputs": [],
      "source": [
        "rf_model_14 = RandomForestClassifier(n_estimators = 100,\n",
        " min_samples_split = 5,\n",
        " min_samples_leaf = 8,\n",
        " max_features = 'sqrt',\n",
        " max_depth = 36,\n",
        " bootstrap = False)"
      ]
    },
    {
      "cell_type": "code",
      "execution_count": null,
      "metadata": {
        "id": "CvOM1UxmOV9v"
      },
      "outputs": [],
      "source": [
        "rf_model_14.fit(x_Tr_14, y_Tr_14)"
      ]
    },
    {
      "cell_type": "code",
      "execution_count": null,
      "metadata": {
        "id": "hy3498apOV9x"
      },
      "outputs": [],
      "source": [
        "preds = rf_model_14.predict(x_Val_14)"
      ]
    },
    {
      "cell_type": "code",
      "execution_count": null,
      "metadata": {
        "id": "REGBU0CDOV9z"
      },
      "outputs": [],
      "source": [
        "print(\"The accuracy is {}\".format(accuracy_score(y_Val_14, preds)))\n",
        "print(\"The precision is {}\".format(precision_score(y_Val_14, preds)))\n",
        "print(\"The recall/sensitivity is {}\".format(recall_score(y_Val_14, preds)))\n",
        "\n",
        "tn, fp, fn, tp = confusion_matrix(y_Val_14, preds).ravel()\n",
        "specificity = tn / (tn+fp)\n",
        "print(\"The specificity is {}\".format(specificity))"
      ]
    },
    {
      "cell_type": "code",
      "execution_count": null,
      "metadata": {
        "id": "aZ3dmUxXOV9z"
      },
      "outputs": [],
      "source": [
        "#set up plotting area\n",
        "plt.figure(0).clf()\n",
        "\n",
        "plt.gcf().set_size_inches(10,8)\n",
        "\n",
        "# add random forest model results\n",
        "y_pred = rf_model_14.predict_proba(x_Val_14)[:, 1]\n",
        "fpr, tpr, _ = metrics.roc_curve(y_Val_14, y_pred)\n",
        "auc = round(metrics.roc_auc_score(y_Val_14, y_pred), 4)\n",
        "plt.plot(fpr,tpr,label=\"Random Forest, AUC = \"+str(auc))\n",
        "\n",
        "# add logistic regression model results\n",
        "y_pred = log_reg_model_14.predict_proba(x_Val_14)[:, 1]\n",
        "fpr, tpr, _ = metrics.roc_curve(y_Val_14, y_pred)\n",
        "auc = round(metrics.roc_auc_score(y_Val_14, y_pred), 4)\n",
        "plt.plot(fpr,tpr,label=\"Logistic Regression, AUC = \"+str(auc))\n",
        "\n",
        "plt.xlabel('False Positive Rate')\n",
        "plt.ylabel('True Positive Rate')\n",
        "\n",
        "#add legend\n",
        "plt.legend()"
      ]
    },
    {
      "cell_type": "markdown",
      "metadata": {
        "id": "1YcDZFuuO8Xl"
      },
      "source": [
        "#Model Validation - Day 35\n",
        "\n",
        "This section includes the validation details for training models to predicit a wound healing within 12 weeks, using data from the first 14 days after a patient's initial visit. For a more detailed description of each of the cells, please refer to the first section ('Model Validation - Day 28') as the procedure is the same for each timepoint."
      ]
    },
    {
      "cell_type": "code",
      "execution_count": null,
      "metadata": {
        "id": "1usKB8X_O8Xw"
      },
      "outputs": [],
      "source": [
        "# load data\n",
        "x_Tr_35 = pd.read_csv('/content/drive/MyDrive/wound care data/train_35_final.csv')\n",
        "y_Tr_35 = x_Tr_35['healed12']\n",
        "x_Tr_35 = x_Tr_35.drop(['healed12'], axis=1)\n",
        "\n",
        "x_Val_35 = pd.read_csv('/content/drive/MyDrive/wound care data/val_35_final.csv')\n",
        "y_Val_35 = x_Val_35['healed12']\n",
        "x_Val_35 = x_Val_35.drop(['healed12'], axis=1)"
      ]
    },
    {
      "cell_type": "code",
      "source": [
        "# train logistic regression model\n",
        "# increased maximum iteration to 1000 since did not converge at default number\n",
        "\n",
        "log_reg_model_35 = LogisticRegression(max_iter=1000).fit(x_Tr_35, y_Tr_35)"
      ],
      "metadata": {
        "id": "dCat1ZKpkahJ"
      },
      "execution_count": null,
      "outputs": []
    },
    {
      "cell_type": "code",
      "execution_count": null,
      "metadata": {
        "id": "vescVoSwO8Xy"
      },
      "outputs": [],
      "source": [
        "preds = log_reg_model_35.predict(x_Val_35)"
      ]
    },
    {
      "cell_type": "code",
      "execution_count": null,
      "metadata": {
        "colab": {
          "base_uri": "https://localhost:8080/"
        },
        "id": "MeuKvU1hO8Xy",
        "outputId": "82e7af92-b4a4-40ab-beba-8adbdddf5f31"
      },
      "outputs": [
        {
          "name": "stdout",
          "output_type": "stream",
          "text": [
            "The accuracy is 0.7699649089303192\n",
            "The precision is 0.7694678292242935\n",
            "The recall/sensitivity is 0.8863063942322829\n",
            "The specificity is 0.5905852942247248\n"
          ]
        }
      ],
      "source": [
        "print(\"The accuracy is {}\".format(accuracy_score(y_Val_35, preds)))\n",
        "print(\"The precision is {}\".format(precision_score(y_Val_35, preds)))\n",
        "print(\"The recall/sensitivity is {}\".format(recall_score(y_Val_35, preds)))\n",
        "\n",
        "tn, fp, fn, tp = confusion_matrix(y_Val_35, preds).ravel()\n",
        "specificity = tn / (tn+fp)\n",
        "print(\"The specificity is {}\".format(specificity))"
      ]
    },
    {
      "cell_type": "markdown",
      "source": [
        "The following cells set up a Grid Search for Random Forest hyperparameters. We perform 3-fold cross validation on 20 different random combinations of hyperparameters of this grid to select the set of best-performing hyperparameters for our model."
      ],
      "metadata": {
        "id": "a9qc8zWfb_rX"
      }
    },
    {
      "cell_type": "code",
      "execution_count": null,
      "metadata": {
        "id": "9G_enRK1Zniv"
      },
      "outputs": [],
      "source": [
        "# create hyperparameter search grid\n",
        "\n",
        "# Number of trees in random forest\n",
        "n_estimators = [10, 20, 50, 75, 100, 200]\n",
        "# Number of features to consider at every split\n",
        "max_features = ['auto', 'sqrt']\n",
        "# Maximum number of levels in tree\n",
        "max_depth = [int(x) for x in np.linspace(2, 70, num = 5)]\n",
        "max_depth.append(None)\n",
        "# Minimum number of samples required to split a node\n",
        "min_samples_split = [2, 5, 10]\n",
        "# Minimum number of samples required at each leaf node\n",
        "min_samples_leaf = [1, 2, 4, 8]\n",
        "# Method of selecting samples for training each tree\n",
        "bootstrap = [True, False]\n",
        "# Create the random grid\n",
        "random_grid = {'n_estimators': n_estimators,\n",
        "               'max_features': max_features,\n",
        "               'max_depth': max_depth,\n",
        "               'min_samples_split': min_samples_split,\n",
        "               'min_samples_leaf': min_samples_leaf,\n",
        "               'bootstrap': bootstrap}\n",
        "print(random_grid)"
      ]
    },
    {
      "cell_type": "code",
      "execution_count": null,
      "metadata": {
        "id": "OBvhczeLZniv"
      },
      "outputs": [],
      "source": [
        "# Use the random grid to search for best hyperparameters\n",
        "\n",
        "# First create the base model to tune\n",
        "rf = RandomForestClassifier()\n",
        "# Random search of parameters, using 3 fold cross validation,\n",
        "# search across 30 different combinations, and use all available cores\n",
        "rf_random = RandomizedSearchCV(estimator = rf, param_distributions = random_grid, n_iter = 20, cv = 3, verbose=2, n_jobs = -1)\n",
        "# Fit the random search model\n",
        "rf_random.fit(x_Tr_35, y_Tr_35)"
      ]
    },
    {
      "cell_type": "code",
      "execution_count": null,
      "metadata": {
        "id": "kJR2scecZniv"
      },
      "outputs": [],
      "source": [
        "rf_model = rf_random.best_estimator_"
      ]
    },
    {
      "cell_type": "code",
      "execution_count": null,
      "metadata": {
        "id": "gqZMgCfIZniv"
      },
      "outputs": [],
      "source": [
        "rf_random.best_params_"
      ]
    },
    {
      "cell_type": "markdown",
      "source": [
        "The following cell contains the hyperparameters selected during our search."
      ],
      "metadata": {
        "id": "gLkaqGWVcas3"
      }
    },
    {
      "cell_type": "code",
      "execution_count": null,
      "metadata": {
        "id": "FNKcD_SOO8Xy"
      },
      "outputs": [],
      "source": [
        "rf_model_35 = RandomForestClassifier(n_estimators = 100,\n",
        " min_samples_split = 5,\n",
        " min_samples_leaf = 8,\n",
        " max_features = 'sqrt',\n",
        " max_depth = 36,\n",
        " bootstrap = False)"
      ]
    },
    {
      "cell_type": "code",
      "execution_count": null,
      "metadata": {
        "id": "s0lf7t1UO8Xy"
      },
      "outputs": [],
      "source": [
        "rf_model_35.fit(x_Tr_35, y_Tr_35)"
      ]
    },
    {
      "cell_type": "code",
      "execution_count": null,
      "metadata": {
        "id": "DhI3e9eeO8X0"
      },
      "outputs": [],
      "source": [
        "preds = rf_model_35.predict(x_Val_35)"
      ]
    },
    {
      "cell_type": "code",
      "execution_count": null,
      "metadata": {
        "colab": {
          "base_uri": "https://localhost:8080/"
        },
        "id": "GBavb3y-O8X0",
        "outputId": "cdcdb0f0-2354-409b-919c-1d16d5f67d74"
      },
      "outputs": [
        {
          "name": "stdout",
          "output_type": "stream",
          "text": [
            "The accuracy is 0.8314721539232771\n",
            "The precision is 0.8831054956617592\n",
            "The recall/sensitivity is 0.8323442370053207\n",
            "The specificity is 0.8301275439001007\n"
          ]
        }
      ],
      "source": [
        "print(\"The accuracy is {}\".format(accuracy_score(y_Val_35, preds)))\n",
        "print(\"The precision is {}\".format(precision_score(y_Val_35, preds)))\n",
        "print(\"The recall/sensitivity is {}\".format(recall_score(y_Val_35, preds)))\n",
        "\n",
        "tn, fp, fn, tp = confusion_matrix(y_Val_35, preds).ravel()\n",
        "specificity = tn / (tn+fp)\n",
        "print(\"The specificity is {}\".format(specificity))"
      ]
    },
    {
      "cell_type": "code",
      "execution_count": null,
      "metadata": {
        "colab": {
          "base_uri": "https://localhost:8080/",
          "height": 696
        },
        "id": "rtHB18koO8X0",
        "outputId": "9c7352fd-f80d-43b2-f42c-b3c16414924a"
      },
      "outputs": [
        {
          "data": {
            "image/png": "[encoded data removed]",
            "text/plain": [
              "<Figure size 1000x800 with 1 Axes>"
            ]
          },
          "metadata": {},
          "output_type": "display_data"
        }
      ],
      "source": [
        "#set up plotting area\n",
        "plt.figure(0).clf()\n",
        "\n",
        "plt.gcf().set_size_inches(10,8)\n",
        "\n",
        "# add random forest model results\n",
        "y_pred = rf_model_35.predict_proba(x_Val_35)[:, 1]\n",
        "fpr, tpr, _ = metrics.roc_curve(y_Val_35, y_pred)\n",
        "auc = round(metrics.roc_auc_score(y_Val_35, y_pred), 4)\n",
        "plt.plot(fpr,tpr,label=\"Random Forest, AUC = \"+str(auc))\n",
        "\n",
        "# add logistic regression model results\n",
        "y_pred = log_reg_model_35.predict_proba(x_Val_35)[:, 1]\n",
        "fpr, tpr, _ = metrics.roc_curve(y_Val_35, y_pred)\n",
        "auc = round(metrics.roc_auc_score(y_Val_35, y_pred), 4)\n",
        "plt.plot(fpr,tpr,label=\"Logistic Regression, AUC = \"+str(auc))\n",
        "\n",
        "plt.xlabel('False Positive Rate')\n",
        "plt.ylabel('True Positive Rate')\n",
        "\n",
        "#add legend\n",
        "plt.legend()\n",
        "\n",
        "plt.savefig('/content/drive/MyDrive/wound care data/ROC_day35_only_changes_val.png', bbox_inches='tight', dpi=600, facecolor='white')"
      ]
    },
    {
      "cell_type": "markdown",
      "source": [
        "Finally, we obtain the feature importances for our Random Forest model. We plot these values as a bar graph."
      ],
      "metadata": {
        "id": "MPfBDyIKcnoU"
      }
    },
    {
      "cell_type": "code",
      "execution_count": null,
      "metadata": {
        "id": "Jcs8DVoFntCd"
      },
      "outputs": [],
      "source": [
        "# calculate feature importances\n",
        "\n",
        "importances = rf_model_35.feature_importances_\n",
        "std = np.std([tree.feature_importances_ for tree in rf_model_35.estimators_], axis=0)\n",
        "forest_importances = pd.Series(importances, index=x_Tr_35.columns)\n",
        "forest_importances = forest_importances.sort_values(ascending=False)\n",
        "\n",
        "forest_importances"
      ]
    },
    {
      "cell_type": "code",
      "execution_count": null,
      "metadata": {
        "id": "TXRwEEhdntCd"
      },
      "outputs": [],
      "source": [
        "fig = plt.figure()\n",
        "ax = fig.add_subplot(111)\n",
        "\n",
        "plt.barh(forest_importances.index, forest_importances[forest_importances.index].values)\n",
        "\n",
        "plt.gcf().set_size_inches(9,20)\n",
        "\n",
        "plt.title(\"Parameter Importances\")\n",
        "plt.xlabel(\"Mean decrease in impurity\")"
      ]
    },
    {
      "cell_type": "markdown",
      "metadata": {
        "id": "Mc5oZqIol_NJ"
      },
      "source": [
        "#Model Validation - Baseline\n",
        "\n",
        "This section includes the validation details for training models to predicit a wound healing within 12 weeks, using data from the first 14 days after a patient's initial visit. For a more detailed description of each of the cells, please refer to the first section ('Model Validation - Day 28') as the procedure is the same for each timepoint."
      ]
    },
    {
      "cell_type": "code",
      "execution_count": null,
      "metadata": {
        "id": "bdKwahrLl_NK"
      },
      "outputs": [],
      "source": [
        "# load data\n",
        "x_Tr_0 = pd.read_csv('/content/drive/MyDrive/wound care data/train_35_final.csv')\n",
        "y_Tr_0 = x_Tr_0['healed12']\n",
        "x_Tr_0 = x_Tr_0.drop(['healed12'], axis=1)\n",
        "\n",
        "x_Val_0 = pd.read_csv('/content/drive/MyDrive/wound care data/val_35_final.csv')\n",
        "y_Val_0 = x_Val_0['healed12']\n",
        "x_Val_0 = x_Val_0.drop(['healed12'], axis=1)"
      ]
    },
    {
      "cell_type": "markdown",
      "source": [
        "After reading in the full dataset of patient visits (up until day 35), we drop all columns that contain information past a patient's initial visit to the wound care clinic."
      ],
      "metadata": {
        "id": "WA39UrCadQZP"
      }
    },
    {
      "cell_type": "code",
      "execution_count": null,
      "metadata": {
        "id": "eYJhS6Rrl_NL"
      },
      "outputs": [],
      "source": [
        "# drop all columns past baseline\n",
        "\n",
        "to_keep = set(x_Tr_0.columns)\n",
        "\n",
        "for key in x_Tr_0.columns:\n",
        "  for i in range(1, 6):\n",
        "    if '_' + str(i * 7) in key or '_D' in key:\n",
        "      to_keep.discard(key)\n",
        "\n",
        "x_Tr_0 = x_Tr_0[list(to_keep)]\n",
        "x_Val_0 = x_Val_0[list(to_keep)]\n",
        "x_Tr_0.head()"
      ]
    },
    {
      "cell_type": "code",
      "source": [
        "log_reg_model_0 = LogisticRegression(max_iter=1000).fit(x_Tr_0, y_Tr_0)"
      ],
      "metadata": {
        "id": "gaPeHozTm_6s"
      },
      "execution_count": null,
      "outputs": []
    },
    {
      "cell_type": "code",
      "execution_count": null,
      "metadata": {
        "id": "YqqLxTTOl_NM"
      },
      "outputs": [],
      "source": [
        "preds = log_reg_model_0.predict(x_Val_0)"
      ]
    },
    {
      "cell_type": "code",
      "execution_count": null,
      "metadata": {
        "id": "ZSvGyGrGl_NM"
      },
      "outputs": [],
      "source": [
        "print(\"The accuracy is {}\".format(accuracy_score(y_Val_0, preds)))\n",
        "print(\"The precision is {}\".format(precision_score(y_Val_0, preds)))\n",
        "print(\"The recall/sensitivity is {}\".format(recall_score(y_Val_0, preds)))\n",
        "\n",
        "tn, fp, fn, tp = confusion_matrix(y_Val_0, preds).ravel()\n",
        "specificity = tn / (tn+fp)\n",
        "print(\"The specificity is {}\".format(specificity))"
      ]
    },
    {
      "cell_type": "code",
      "execution_count": null,
      "metadata": {
        "id": "ba8J_EZFl_NM"
      },
      "outputs": [],
      "source": [
        "rf_model_0 = RandomForestClassifier(n_estimators = 75,\n",
        " min_samples_split = 10,\n",
        " min_samples_leaf = 1,\n",
        " max_features = 'sqrt',\n",
        " max_depth = 19,\n",
        " bootstrap = False)"
      ]
    },
    {
      "cell_type": "code",
      "execution_count": null,
      "metadata": {
        "id": "6lhdL-A1l_NM"
      },
      "outputs": [],
      "source": [
        "rf_model_0.fit(x_Tr_0, y_Tr_0)"
      ]
    },
    {
      "cell_type": "code",
      "execution_count": null,
      "metadata": {
        "id": "VWvAN6JPl_NN"
      },
      "outputs": [],
      "source": [
        "preds = rf_model_0.predict(x_Val_0)"
      ]
    },
    {
      "cell_type": "code",
      "execution_count": null,
      "metadata": {
        "id": "u0thLFLZl_NN"
      },
      "outputs": [],
      "source": [
        "print(\"The accuracy is {}\".format(accuracy_score(y_Val_0, preds)))\n",
        "print(\"The precision is {}\".format(precision_score(y_Val_0, preds)))\n",
        "print(\"The recall/sensitivity is {}\".format(recall_score(y_Val_0, preds)))\n",
        "\n",
        "tn, fp, fn, tp = confusion_matrix(y_Val_0, preds).ravel()\n",
        "specificity = tn / (tn+fp)\n",
        "print(\"The specificity is {}\".format(specificity))"
      ]
    },
    {
      "cell_type": "code",
      "execution_count": null,
      "metadata": {
        "id": "CSsqMbCbl_NN"
      },
      "outputs": [],
      "source": [
        "#set up plotting area\n",
        "plt.figure(0).clf()\n",
        "\n",
        "plt.gcf().set_size_inches(10,8)\n",
        "\n",
        "# add random forest model results\n",
        "y_pred = rf_model_0.predict_proba(x_Val_0)[:, 1]\n",
        "fpr, tpr, _ = metrics.roc_curve(y_Val_0, y_pred)\n",
        "auc = round(metrics.roc_auc_score(y_Val_0, y_pred), 4)\n",
        "plt.plot(fpr,tpr,label=\"Random Forest, AUC = \"+str(auc))\n",
        "\n",
        "# add logistic regression model results\n",
        "y_pred = log_reg_model_0.predict_proba(x_Val_0)[:, 1]\n",
        "fpr, tpr, _ = metrics.roc_curve(y_Val_0, y_pred)\n",
        "auc = round(metrics.roc_auc_score(y_Val_0, y_pred), 4)\n",
        "plt.plot(fpr,tpr,label=\"Logistic Regression, AUC = \"+str(auc))\n",
        "\n",
        "plt.xlabel('False Positive Rate')\n",
        "plt.ylabel('True Positive Rate')\n",
        "\n",
        "#add legend\n",
        "plt.legend()"
      ]
    }
  ],
  "metadata": {
    "colab": {
      "toc_visible": true,
      "provenance": []
    },
    "kernelspec": {
      "display_name": "Python 3",
      "name": "python3"
    },
    "language_info": {
      "name": "python"
    }
  },
  "nbformat": 4,
  "nbformat_minor": 0
}